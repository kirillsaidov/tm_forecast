{
 "cells": [
  {
   "cell_type": "code",
   "execution_count": 12,
   "metadata": {},
   "outputs": [],
   "source": [
    "# trd\n",
    "import MetaTrader5 as mt\n",
    "\n",
    "# processing\n",
    "import pandas as pd\n",
    "from datetime import datetime"
   ]
  },
  {
   "cell_type": "markdown",
   "metadata": {},
   "source": [
    "---"
   ]
  },
  {
   "cell_type": "code",
   "execution_count": 7,
   "metadata": {},
   "outputs": [
    {
     "data": {
      "text/plain": [
       "True"
      ]
     },
     "execution_count": 7,
     "metadata": {},
     "output_type": "execute_result"
    }
   ],
   "source": [
    "mt.initialize()"
   ]
  },
  {
   "cell_type": "code",
   "execution_count": 8,
   "metadata": {},
   "outputs": [
    {
     "data": {
      "text/plain": [
       "True"
      ]
     },
     "execution_count": 8,
     "metadata": {},
     "output_type": "execute_result"
    }
   ],
   "source": [
    "login = 0\n",
    "password = '' \n",
    "server = ''\n",
    "\n",
    "mt.login(login, password, server)"
   ]
  },
  {
   "cell_type": "code",
   "execution_count": 9,
   "metadata": {},
   "outputs": [
    {
     "data": {
      "text/plain": [
       "AccountInfo(login=152702909, trade_mode=0, leverage=2, limit_orders=1024, margin_so_mode=0, trade_allowed=True, trade_expert=True, margin_mode=2, currency_digits=2, fifo_close=False, balance=507.39, credit=0.0, profit=0.0, equity=507.39, margin=0.0, margin_free=507.39, margin_level=0.0, margin_so_call=30.0, margin_so_so=0.0, margin_initial=0.0, margin_maintenance=0.0, assets=0.0, liabilities=0.0, commission_blocked=0.0, name='DEMO', server='Exness-MT5Trial', currency='USD', company='Exness Technologies Ltd')"
      ]
     },
     "execution_count": 9,
     "metadata": {},
     "output_type": "execute_result"
    }
   ],
   "source": [
    "mt.account_info()"
   ]
  },
  {
   "cell_type": "code",
   "execution_count": 18,
   "metadata": {},
   "outputs": [
    {
     "data": {
      "text/html": [
       "<div>\n",
       "<style scoped>\n",
       "    .dataframe tbody tr th:only-of-type {\n",
       "        vertical-align: middle;\n",
       "    }\n",
       "\n",
       "    .dataframe tbody tr th {\n",
       "        vertical-align: top;\n",
       "    }\n",
       "\n",
       "    .dataframe thead th {\n",
       "        text-align: right;\n",
       "    }\n",
       "</style>\n",
       "<table border=\"1\" class=\"dataframe\">\n",
       "  <thead>\n",
       "    <tr style=\"text-align: right;\">\n",
       "      <th></th>\n",
       "      <th>time</th>\n",
       "      <th>open</th>\n",
       "      <th>high</th>\n",
       "      <th>low</th>\n",
       "      <th>close</th>\n",
       "      <th>tick_volume</th>\n",
       "      <th>spread</th>\n",
       "      <th>real_volume</th>\n",
       "    </tr>\n",
       "  </thead>\n",
       "  <tbody>\n",
       "    <tr>\n",
       "      <th>0</th>\n",
       "      <td>1672531200</td>\n",
       "      <td>16532.88</td>\n",
       "      <td>16619.48</td>\n",
       "      <td>16492.71</td>\n",
       "      <td>16603.49</td>\n",
       "      <td>79688</td>\n",
       "      <td>427</td>\n",
       "      <td>0</td>\n",
       "    </tr>\n",
       "    <tr>\n",
       "      <th>1</th>\n",
       "      <td>1672617600</td>\n",
       "      <td>16602.97</td>\n",
       "      <td>16773.48</td>\n",
       "      <td>16535.88</td>\n",
       "      <td>16665.66</td>\n",
       "      <td>82223</td>\n",
       "      <td>747</td>\n",
       "      <td>0</td>\n",
       "    </tr>\n",
       "    <tr>\n",
       "      <th>2</th>\n",
       "      <td>1672704000</td>\n",
       "      <td>16665.36</td>\n",
       "      <td>16773.61</td>\n",
       "      <td>16593.15</td>\n",
       "      <td>16662.49</td>\n",
       "      <td>82161</td>\n",
       "      <td>575</td>\n",
       "      <td>0</td>\n",
       "    </tr>\n",
       "    <tr>\n",
       "      <th>3</th>\n",
       "      <td>1672790400</td>\n",
       "      <td>16661.05</td>\n",
       "      <td>16988.17</td>\n",
       "      <td>16639.02</td>\n",
       "      <td>16837.79</td>\n",
       "      <td>83272</td>\n",
       "      <td>371</td>\n",
       "      <td>0</td>\n",
       "    </tr>\n",
       "    <tr>\n",
       "      <th>4</th>\n",
       "      <td>1672876800</td>\n",
       "      <td>16839.31</td>\n",
       "      <td>16868.59</td>\n",
       "      <td>16750.72</td>\n",
       "      <td>16814.80</td>\n",
       "      <td>82185</td>\n",
       "      <td>517</td>\n",
       "      <td>0</td>\n",
       "    </tr>\n",
       "  </tbody>\n",
       "</table>\n",
       "</div>"
      ],
      "text/plain": [
       "         time      open      high       low     close  tick_volume  spread  \\\n",
       "0  1672531200  16532.88  16619.48  16492.71  16603.49        79688     427   \n",
       "1  1672617600  16602.97  16773.48  16535.88  16665.66        82223     747   \n",
       "2  1672704000  16665.36  16773.61  16593.15  16662.49        82161     575   \n",
       "3  1672790400  16661.05  16988.17  16639.02  16837.79        83272     371   \n",
       "4  1672876800  16839.31  16868.59  16750.72  16814.80        82185     517   \n",
       "\n",
       "   real_volume  \n",
       "0            0  \n",
       "1            0  \n",
       "2            0  \n",
       "3            0  \n",
       "4            0  "
      ]
     },
     "execution_count": 18,
     "metadata": {},
     "output_type": "execute_result"
    }
   ],
   "source": [
    "df = pd.DataFrame(mt.copy_rates_range('BTCUSD', mt.TIMEFRAME_D1, datetime(2023, 1, 1), datetime.now()))\n",
    "df.head()"
   ]
  },
  {
   "cell_type": "code",
   "execution_count": 19,
   "metadata": {},
   "outputs": [
    {
     "data": {
      "text/html": [
       "<div>\n",
       "<style scoped>\n",
       "    .dataframe tbody tr th:only-of-type {\n",
       "        vertical-align: middle;\n",
       "    }\n",
       "\n",
       "    .dataframe tbody tr th {\n",
       "        vertical-align: top;\n",
       "    }\n",
       "\n",
       "    .dataframe thead th {\n",
       "        text-align: right;\n",
       "    }\n",
       "</style>\n",
       "<table border=\"1\" class=\"dataframe\">\n",
       "  <thead>\n",
       "    <tr style=\"text-align: right;\">\n",
       "      <th></th>\n",
       "      <th>time</th>\n",
       "      <th>open</th>\n",
       "      <th>high</th>\n",
       "      <th>low</th>\n",
       "      <th>close</th>\n",
       "      <th>tick_volume</th>\n",
       "      <th>spread</th>\n",
       "      <th>real_volume</th>\n",
       "    </tr>\n",
       "  </thead>\n",
       "  <tbody>\n",
       "    <tr>\n",
       "      <th>0</th>\n",
       "      <td>2023-01-01 00:00:00+00:00</td>\n",
       "      <td>16532.88</td>\n",
       "      <td>16619.48</td>\n",
       "      <td>16492.71</td>\n",
       "      <td>16603.49</td>\n",
       "      <td>79688</td>\n",
       "      <td>427</td>\n",
       "      <td>0</td>\n",
       "    </tr>\n",
       "    <tr>\n",
       "      <th>1</th>\n",
       "      <td>2023-01-02 00:00:00+00:00</td>\n",
       "      <td>16602.97</td>\n",
       "      <td>16773.48</td>\n",
       "      <td>16535.88</td>\n",
       "      <td>16665.66</td>\n",
       "      <td>82223</td>\n",
       "      <td>747</td>\n",
       "      <td>0</td>\n",
       "    </tr>\n",
       "    <tr>\n",
       "      <th>2</th>\n",
       "      <td>2023-01-03 00:00:00+00:00</td>\n",
       "      <td>16665.36</td>\n",
       "      <td>16773.61</td>\n",
       "      <td>16593.15</td>\n",
       "      <td>16662.49</td>\n",
       "      <td>82161</td>\n",
       "      <td>575</td>\n",
       "      <td>0</td>\n",
       "    </tr>\n",
       "    <tr>\n",
       "      <th>3</th>\n",
       "      <td>2023-01-04 00:00:00+00:00</td>\n",
       "      <td>16661.05</td>\n",
       "      <td>16988.17</td>\n",
       "      <td>16639.02</td>\n",
       "      <td>16837.79</td>\n",
       "      <td>83272</td>\n",
       "      <td>371</td>\n",
       "      <td>0</td>\n",
       "    </tr>\n",
       "    <tr>\n",
       "      <th>4</th>\n",
       "      <td>2023-01-05 00:00:00+00:00</td>\n",
       "      <td>16839.31</td>\n",
       "      <td>16868.59</td>\n",
       "      <td>16750.72</td>\n",
       "      <td>16814.80</td>\n",
       "      <td>82185</td>\n",
       "      <td>517</td>\n",
       "      <td>0</td>\n",
       "    </tr>\n",
       "  </tbody>\n",
       "</table>\n",
       "</div>"
      ],
      "text/plain": [
       "                       time      open      high       low     close  \\\n",
       "0 2023-01-01 00:00:00+00:00  16532.88  16619.48  16492.71  16603.49   \n",
       "1 2023-01-02 00:00:00+00:00  16602.97  16773.48  16535.88  16665.66   \n",
       "2 2023-01-03 00:00:00+00:00  16665.36  16773.61  16593.15  16662.49   \n",
       "3 2023-01-04 00:00:00+00:00  16661.05  16988.17  16639.02  16837.79   \n",
       "4 2023-01-05 00:00:00+00:00  16839.31  16868.59  16750.72  16814.80   \n",
       "\n",
       "   tick_volume  spread  real_volume  \n",
       "0        79688     427            0  \n",
       "1        82223     747            0  \n",
       "2        82161     575            0  \n",
       "3        83272     371            0  \n",
       "4        82185     517            0  "
      ]
     },
     "execution_count": 19,
     "metadata": {},
     "output_type": "execute_result"
    }
   ],
   "source": [
    "df.time = pd.to_datetime(df.time, unit='s', utc=True)\n",
    "df.head()"
   ]
  },
  {
   "cell_type": "code",
   "execution_count": 20,
   "metadata": {},
   "outputs": [
    {
     "data": {
      "text/html": [
       "<div>\n",
       "<style scoped>\n",
       "    .dataframe tbody tr th:only-of-type {\n",
       "        vertical-align: middle;\n",
       "    }\n",
       "\n",
       "    .dataframe tbody tr th {\n",
       "        vertical-align: top;\n",
       "    }\n",
       "\n",
       "    .dataframe thead th {\n",
       "        text-align: right;\n",
       "    }\n",
       "</style>\n",
       "<table border=\"1\" class=\"dataframe\">\n",
       "  <thead>\n",
       "    <tr style=\"text-align: right;\">\n",
       "      <th></th>\n",
       "      <th>time</th>\n",
       "      <th>open</th>\n",
       "      <th>high</th>\n",
       "      <th>low</th>\n",
       "      <th>close</th>\n",
       "      <th>tick_volume</th>\n",
       "      <th>spread</th>\n",
       "      <th>real_volume</th>\n",
       "    </tr>\n",
       "  </thead>\n",
       "  <tbody>\n",
       "    <tr>\n",
       "      <th>404</th>\n",
       "      <td>2024-02-09 00:00:00+00:00</td>\n",
       "      <td>45277.94</td>\n",
       "      <td>48215.97</td>\n",
       "      <td>45214.60</td>\n",
       "      <td>47099.48</td>\n",
       "      <td>170224</td>\n",
       "      <td>1625</td>\n",
       "      <td>0</td>\n",
       "    </tr>\n",
       "    <tr>\n",
       "      <th>405</th>\n",
       "      <td>2024-02-10 00:00:00+00:00</td>\n",
       "      <td>47107.30</td>\n",
       "      <td>48167.92</td>\n",
       "      <td>46838.71</td>\n",
       "      <td>47738.99</td>\n",
       "      <td>116633</td>\n",
       "      <td>1627</td>\n",
       "      <td>0</td>\n",
       "    </tr>\n",
       "    <tr>\n",
       "      <th>406</th>\n",
       "      <td>2024-02-11 00:00:00+00:00</td>\n",
       "      <td>47730.75</td>\n",
       "      <td>48569.38</td>\n",
       "      <td>47532.30</td>\n",
       "      <td>48284.12</td>\n",
       "      <td>127281</td>\n",
       "      <td>1625</td>\n",
       "      <td>0</td>\n",
       "    </tr>\n",
       "    <tr>\n",
       "      <th>407</th>\n",
       "      <td>2024-02-12 00:00:00+00:00</td>\n",
       "      <td>48303.93</td>\n",
       "      <td>50264.19</td>\n",
       "      <td>47653.73</td>\n",
       "      <td>49907.30</td>\n",
       "      <td>164739</td>\n",
       "      <td>1625</td>\n",
       "      <td>0</td>\n",
       "    </tr>\n",
       "    <tr>\n",
       "      <th>408</th>\n",
       "      <td>2024-02-13 00:00:00+00:00</td>\n",
       "      <td>49894.69</td>\n",
       "      <td>50323.71</td>\n",
       "      <td>48386.90</td>\n",
       "      <td>48784.10</td>\n",
       "      <td>104074</td>\n",
       "      <td>1627</td>\n",
       "      <td>0</td>\n",
       "    </tr>\n",
       "  </tbody>\n",
       "</table>\n",
       "</div>"
      ],
      "text/plain": [
       "                         time      open      high       low     close  \\\n",
       "404 2024-02-09 00:00:00+00:00  45277.94  48215.97  45214.60  47099.48   \n",
       "405 2024-02-10 00:00:00+00:00  47107.30  48167.92  46838.71  47738.99   \n",
       "406 2024-02-11 00:00:00+00:00  47730.75  48569.38  47532.30  48284.12   \n",
       "407 2024-02-12 00:00:00+00:00  48303.93  50264.19  47653.73  49907.30   \n",
       "408 2024-02-13 00:00:00+00:00  49894.69  50323.71  48386.90  48784.10   \n",
       "\n",
       "     tick_volume  spread  real_volume  \n",
       "404       170224    1625            0  \n",
       "405       116633    1627            0  \n",
       "406       127281    1625            0  \n",
       "407       164739    1625            0  \n",
       "408       104074    1627            0  "
      ]
     },
     "execution_count": 20,
     "metadata": {},
     "output_type": "execute_result"
    }
   ],
   "source": [
    "df.tail()"
   ]
  },
  {
   "cell_type": "code",
   "execution_count": null,
   "metadata": {},
   "outputs": [],
   "source": []
  }
 ],
 "metadata": {
  "kernelspec": {
   "display_name": "Python 3",
   "language": "python",
   "name": "python3"
  },
  "language_info": {
   "codemirror_mode": {
    "name": "ipython",
    "version": 3
   },
   "file_extension": ".py",
   "mimetype": "text/x-python",
   "name": "python",
   "nbconvert_exporter": "python",
   "pygments_lexer": "ipython3",
   "version": "3.9.8"
  }
 },
 "nbformat": 4,
 "nbformat_minor": 2
}
