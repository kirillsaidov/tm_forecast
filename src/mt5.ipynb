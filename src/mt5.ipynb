{
 "cells": [
  {
   "cell_type": "code",
   "execution_count": 28,
   "metadata": {},
   "outputs": [],
   "source": [
    "# trd\n",
    "import MetaTrader5 as mt\n",
    "\n",
    "# processing\n",
    "import pandas as pd\n",
    "from datetime import datetime"
   ]
  },
  {
   "cell_type": "markdown",
   "metadata": {},
   "source": [
    "---"
   ]
  },
  {
   "cell_type": "code",
   "execution_count": 29,
   "metadata": {},
   "outputs": [
    {
     "data": {
      "text/plain": [
       "True"
      ]
     },
     "execution_count": 29,
     "metadata": {},
     "output_type": "execute_result"
    }
   ],
   "source": [
    "mt.initialize()"
   ]
  },
  {
   "cell_type": "code",
   "execution_count": 30,
   "metadata": {},
   "outputs": [
    {
     "data": {
      "text/plain": [
       "True"
      ]
     },
     "execution_count": 30,
     "metadata": {},
     "output_type": "execute_result"
    }
   ],
   "source": [
    "login = 0\n",
    "password = '' \n",
    "server = ''\n",
    "\n",
    "mt.login(login, password, server)"
   ]
  },
  {
   "cell_type": "code",
   "execution_count": 31,
   "metadata": {},
   "outputs": [
    {
     "data": {
      "text/plain": [
       "AccountInfo(login=152702909, trade_mode=0, leverage=2, limit_orders=1024, margin_so_mode=0, trade_allowed=True, trade_expert=True, margin_mode=2, currency_digits=2, fifo_close=False, balance=527.04, credit=0.0, profit=0.0, equity=527.04, margin=0.0, margin_free=527.04, margin_level=0.0, margin_so_call=30.0, margin_so_so=0.0, margin_initial=0.0, margin_maintenance=0.0, assets=0.0, liabilities=0.0, commission_blocked=0.0, name='DEMO', server='Exness-MT5Trial', currency='USD', company='Exness Technologies Ltd')"
      ]
     },
     "execution_count": 31,
     "metadata": {},
     "output_type": "execute_result"
    }
   ],
   "source": [
    "mt.account_info()"
   ]
  },
  {
   "cell_type": "code",
   "execution_count": 32,
   "metadata": {},
   "outputs": [
    {
     "data": {
      "text/html": [
       "<div>\n",
       "<style scoped>\n",
       "    .dataframe tbody tr th:only-of-type {\n",
       "        vertical-align: middle;\n",
       "    }\n",
       "\n",
       "    .dataframe tbody tr th {\n",
       "        vertical-align: top;\n",
       "    }\n",
       "\n",
       "    .dataframe thead th {\n",
       "        text-align: right;\n",
       "    }\n",
       "</style>\n",
       "<table border=\"1\" class=\"dataframe\">\n",
       "  <thead>\n",
       "    <tr style=\"text-align: right;\">\n",
       "      <th></th>\n",
       "      <th>time</th>\n",
       "      <th>open</th>\n",
       "      <th>high</th>\n",
       "      <th>low</th>\n",
       "      <th>close</th>\n",
       "      <th>tick_volume</th>\n",
       "      <th>spread</th>\n",
       "      <th>real_volume</th>\n",
       "    </tr>\n",
       "  </thead>\n",
       "  <tbody>\n",
       "    <tr>\n",
       "      <th>0</th>\n",
       "      <td>1672531200</td>\n",
       "      <td>16532.88</td>\n",
       "      <td>16619.48</td>\n",
       "      <td>16492.71</td>\n",
       "      <td>16603.49</td>\n",
       "      <td>79688</td>\n",
       "      <td>427</td>\n",
       "      <td>0</td>\n",
       "    </tr>\n",
       "    <tr>\n",
       "      <th>1</th>\n",
       "      <td>1672617600</td>\n",
       "      <td>16602.97</td>\n",
       "      <td>16773.48</td>\n",
       "      <td>16535.88</td>\n",
       "      <td>16665.66</td>\n",
       "      <td>82223</td>\n",
       "      <td>747</td>\n",
       "      <td>0</td>\n",
       "    </tr>\n",
       "    <tr>\n",
       "      <th>2</th>\n",
       "      <td>1672704000</td>\n",
       "      <td>16665.36</td>\n",
       "      <td>16773.61</td>\n",
       "      <td>16593.15</td>\n",
       "      <td>16662.49</td>\n",
       "      <td>82161</td>\n",
       "      <td>575</td>\n",
       "      <td>0</td>\n",
       "    </tr>\n",
       "    <tr>\n",
       "      <th>3</th>\n",
       "      <td>1672790400</td>\n",
       "      <td>16661.05</td>\n",
       "      <td>16988.17</td>\n",
       "      <td>16639.02</td>\n",
       "      <td>16837.79</td>\n",
       "      <td>83272</td>\n",
       "      <td>371</td>\n",
       "      <td>0</td>\n",
       "    </tr>\n",
       "    <tr>\n",
       "      <th>4</th>\n",
       "      <td>1672876800</td>\n",
       "      <td>16839.31</td>\n",
       "      <td>16868.59</td>\n",
       "      <td>16750.72</td>\n",
       "      <td>16814.80</td>\n",
       "      <td>82185</td>\n",
       "      <td>517</td>\n",
       "      <td>0</td>\n",
       "    </tr>\n",
       "  </tbody>\n",
       "</table>\n",
       "</div>"
      ],
      "text/plain": [
       "         time      open      high       low     close  tick_volume  spread  \\\n",
       "0  1672531200  16532.88  16619.48  16492.71  16603.49        79688     427   \n",
       "1  1672617600  16602.97  16773.48  16535.88  16665.66        82223     747   \n",
       "2  1672704000  16665.36  16773.61  16593.15  16662.49        82161     575   \n",
       "3  1672790400  16661.05  16988.17  16639.02  16837.79        83272     371   \n",
       "4  1672876800  16839.31  16868.59  16750.72  16814.80        82185     517   \n",
       "\n",
       "   real_volume  \n",
       "0            0  \n",
       "1            0  \n",
       "2            0  \n",
       "3            0  \n",
       "4            0  "
      ]
     },
     "execution_count": 32,
     "metadata": {},
     "output_type": "execute_result"
    }
   ],
   "source": [
    "df = pd.DataFrame(mt.copy_rates_range('BTCUSD', mt.TIMEFRAME_D1, datetime(2023, 1, 1), datetime.now()))\n",
    "df.head()"
   ]
  },
  {
   "cell_type": "code",
   "execution_count": 33,
   "metadata": {},
   "outputs": [
    {
     "data": {
      "text/html": [
       "<div>\n",
       "<style scoped>\n",
       "    .dataframe tbody tr th:only-of-type {\n",
       "        vertical-align: middle;\n",
       "    }\n",
       "\n",
       "    .dataframe tbody tr th {\n",
       "        vertical-align: top;\n",
       "    }\n",
       "\n",
       "    .dataframe thead th {\n",
       "        text-align: right;\n",
       "    }\n",
       "</style>\n",
       "<table border=\"1\" class=\"dataframe\">\n",
       "  <thead>\n",
       "    <tr style=\"text-align: right;\">\n",
       "      <th></th>\n",
       "      <th>time</th>\n",
       "      <th>open</th>\n",
       "      <th>high</th>\n",
       "      <th>low</th>\n",
       "      <th>close</th>\n",
       "      <th>tick_volume</th>\n",
       "      <th>spread</th>\n",
       "      <th>real_volume</th>\n",
       "    </tr>\n",
       "  </thead>\n",
       "  <tbody>\n",
       "    <tr>\n",
       "      <th>0</th>\n",
       "      <td>2023-01-01 00:00:00+00:00</td>\n",
       "      <td>16532.88</td>\n",
       "      <td>16619.48</td>\n",
       "      <td>16492.71</td>\n",
       "      <td>16603.49</td>\n",
       "      <td>79688</td>\n",
       "      <td>427</td>\n",
       "      <td>0</td>\n",
       "    </tr>\n",
       "    <tr>\n",
       "      <th>1</th>\n",
       "      <td>2023-01-02 00:00:00+00:00</td>\n",
       "      <td>16602.97</td>\n",
       "      <td>16773.48</td>\n",
       "      <td>16535.88</td>\n",
       "      <td>16665.66</td>\n",
       "      <td>82223</td>\n",
       "      <td>747</td>\n",
       "      <td>0</td>\n",
       "    </tr>\n",
       "    <tr>\n",
       "      <th>2</th>\n",
       "      <td>2023-01-03 00:00:00+00:00</td>\n",
       "      <td>16665.36</td>\n",
       "      <td>16773.61</td>\n",
       "      <td>16593.15</td>\n",
       "      <td>16662.49</td>\n",
       "      <td>82161</td>\n",
       "      <td>575</td>\n",
       "      <td>0</td>\n",
       "    </tr>\n",
       "    <tr>\n",
       "      <th>3</th>\n",
       "      <td>2023-01-04 00:00:00+00:00</td>\n",
       "      <td>16661.05</td>\n",
       "      <td>16988.17</td>\n",
       "      <td>16639.02</td>\n",
       "      <td>16837.79</td>\n",
       "      <td>83272</td>\n",
       "      <td>371</td>\n",
       "      <td>0</td>\n",
       "    </tr>\n",
       "    <tr>\n",
       "      <th>4</th>\n",
       "      <td>2023-01-05 00:00:00+00:00</td>\n",
       "      <td>16839.31</td>\n",
       "      <td>16868.59</td>\n",
       "      <td>16750.72</td>\n",
       "      <td>16814.80</td>\n",
       "      <td>82185</td>\n",
       "      <td>517</td>\n",
       "      <td>0</td>\n",
       "    </tr>\n",
       "  </tbody>\n",
       "</table>\n",
       "</div>"
      ],
      "text/plain": [
       "                       time      open      high       low     close  \\\n",
       "0 2023-01-01 00:00:00+00:00  16532.88  16619.48  16492.71  16603.49   \n",
       "1 2023-01-02 00:00:00+00:00  16602.97  16773.48  16535.88  16665.66   \n",
       "2 2023-01-03 00:00:00+00:00  16665.36  16773.61  16593.15  16662.49   \n",
       "3 2023-01-04 00:00:00+00:00  16661.05  16988.17  16639.02  16837.79   \n",
       "4 2023-01-05 00:00:00+00:00  16839.31  16868.59  16750.72  16814.80   \n",
       "\n",
       "   tick_volume  spread  real_volume  \n",
       "0        79688     427            0  \n",
       "1        82223     747            0  \n",
       "2        82161     575            0  \n",
       "3        83272     371            0  \n",
       "4        82185     517            0  "
      ]
     },
     "execution_count": 33,
     "metadata": {},
     "output_type": "execute_result"
    }
   ],
   "source": [
    "df.time = pd.to_datetime(df.time, unit='s', utc=True)\n",
    "df.head()"
   ]
  },
  {
   "cell_type": "code",
   "execution_count": 34,
   "metadata": {},
   "outputs": [
    {
     "data": {
      "text/html": [
       "<div>\n",
       "<style scoped>\n",
       "    .dataframe tbody tr th:only-of-type {\n",
       "        vertical-align: middle;\n",
       "    }\n",
       "\n",
       "    .dataframe tbody tr th {\n",
       "        vertical-align: top;\n",
       "    }\n",
       "\n",
       "    .dataframe thead th {\n",
       "        text-align: right;\n",
       "    }\n",
       "</style>\n",
       "<table border=\"1\" class=\"dataframe\">\n",
       "  <thead>\n",
       "    <tr style=\"text-align: right;\">\n",
       "      <th></th>\n",
       "      <th>time</th>\n",
       "      <th>open</th>\n",
       "      <th>high</th>\n",
       "      <th>low</th>\n",
       "      <th>close</th>\n",
       "      <th>tick_volume</th>\n",
       "      <th>spread</th>\n",
       "      <th>real_volume</th>\n",
       "    </tr>\n",
       "  </thead>\n",
       "  <tbody>\n",
       "    <tr>\n",
       "      <th>408</th>\n",
       "      <td>2024-02-13 00:00:00+00:00</td>\n",
       "      <td>49894.69</td>\n",
       "      <td>50323.71</td>\n",
       "      <td>48278.14</td>\n",
       "      <td>49733.91</td>\n",
       "      <td>163269</td>\n",
       "      <td>1627</td>\n",
       "      <td>0</td>\n",
       "    </tr>\n",
       "    <tr>\n",
       "      <th>409</th>\n",
       "      <td>2024-02-14 00:00:00+00:00</td>\n",
       "      <td>49710.36</td>\n",
       "      <td>52021.73</td>\n",
       "      <td>49239.29</td>\n",
       "      <td>51740.52</td>\n",
       "      <td>172123</td>\n",
       "      <td>1626</td>\n",
       "      <td>0</td>\n",
       "    </tr>\n",
       "    <tr>\n",
       "      <th>410</th>\n",
       "      <td>2024-02-15 00:00:00+00:00</td>\n",
       "      <td>51768.09</td>\n",
       "      <td>52779.51</td>\n",
       "      <td>51255.39</td>\n",
       "      <td>51908.33</td>\n",
       "      <td>172251</td>\n",
       "      <td>1650</td>\n",
       "      <td>0</td>\n",
       "    </tr>\n",
       "    <tr>\n",
       "      <th>411</th>\n",
       "      <td>2024-02-16 00:00:00+00:00</td>\n",
       "      <td>51886.93</td>\n",
       "      <td>52559.49</td>\n",
       "      <td>51547.60</td>\n",
       "      <td>52119.51</td>\n",
       "      <td>154540</td>\n",
       "      <td>1625</td>\n",
       "      <td>0</td>\n",
       "    </tr>\n",
       "    <tr>\n",
       "      <th>412</th>\n",
       "      <td>2024-02-17 00:00:00+00:00</td>\n",
       "      <td>52112.88</td>\n",
       "      <td>52177.36</td>\n",
       "      <td>51572.66</td>\n",
       "      <td>51708.30</td>\n",
       "      <td>43603</td>\n",
       "      <td>1796</td>\n",
       "      <td>0</td>\n",
       "    </tr>\n",
       "  </tbody>\n",
       "</table>\n",
       "</div>"
      ],
      "text/plain": [
       "                         time      open      high       low     close  \\\n",
       "408 2024-02-13 00:00:00+00:00  49894.69  50323.71  48278.14  49733.91   \n",
       "409 2024-02-14 00:00:00+00:00  49710.36  52021.73  49239.29  51740.52   \n",
       "410 2024-02-15 00:00:00+00:00  51768.09  52779.51  51255.39  51908.33   \n",
       "411 2024-02-16 00:00:00+00:00  51886.93  52559.49  51547.60  52119.51   \n",
       "412 2024-02-17 00:00:00+00:00  52112.88  52177.36  51572.66  51708.30   \n",
       "\n",
       "     tick_volume  spread  real_volume  \n",
       "408       163269    1627            0  \n",
       "409       172123    1626            0  \n",
       "410       172251    1650            0  \n",
       "411       154540    1625            0  \n",
       "412        43603    1796            0  "
      ]
     },
     "execution_count": 34,
     "metadata": {},
     "output_type": "execute_result"
    }
   ],
   "source": [
    "df.tail()"
   ]
  },
  {
   "cell_type": "code",
   "execution_count": 35,
   "metadata": {},
   "outputs": [
    {
     "data": {
      "text/plain": [
       "()"
      ]
     },
     "execution_count": 35,
     "metadata": {},
     "output_type": "execute_result"
    }
   ],
   "source": [
    "mt.orders_get()"
   ]
  },
  {
   "cell_type": "code",
   "execution_count": 36,
   "metadata": {},
   "outputs": [
    {
     "data": {
      "text/plain": [
       "0"
      ]
     },
     "execution_count": 36,
     "metadata": {},
     "output_type": "execute_result"
    }
   ],
   "source": [
    "mt.positions_total()"
   ]
  },
  {
   "cell_type": "code",
   "execution_count": 37,
   "metadata": {},
   "outputs": [
    {
     "data": {
      "text/plain": [
       "()"
      ]
     },
     "execution_count": 37,
     "metadata": {},
     "output_type": "execute_result"
    }
   ],
   "source": [
    "mt.positions_get()"
   ]
  },
  {
   "cell_type": "code",
   "execution_count": 45,
   "metadata": {},
   "outputs": [
    {
     "data": {
      "text/plain": [
       "OrderSendResult(retcode=10009, deal=363851349, order=575977263, volume=0.01, price=51744.18, bid=51709.700000000004, ask=51744.18, comment='python script bu', request_id=2878956848, retcode_external=0, request=TradeRequest(action=1, magic=0, order=0, symbol='BTCUSD', volume=0.01, price=51744.18, stoplimit=0.0, sl=50744.18, tp=52744.18, deviation=0, type=0, type_filling=1, type_time=0, expiration=0, comment='python script buy', position=0, position_by=0))"
      ]
     },
     "execution_count": 45,
     "metadata": {},
     "output_type": "execute_result"
    }
   ],
   "source": [
    "# prepare the buy request structure\n",
    "lot = 0.01\n",
    "symbol = \"BTCUSD\"\n",
    "request = {\n",
    "    \"action\": mt.TRADE_ACTION_DEAL,\n",
    "    \"symbol\": symbol,\n",
    "    \"volume\": lot,\n",
    "    \"type\": mt.ORDER_TYPE_BUY,\n",
    "    \"price\": mt.symbol_info_tick(symbol).ask,\n",
    "    \"sl\": mt.symbol_info_tick(symbol).ask - 1000,\n",
    "    \"tp\": mt.symbol_info_tick(symbol).ask + 1000,\n",
    "    \"comment\": \"python script buy\",\n",
    "    \"type_time\": mt.ORDER_TIME_GTC,\n",
    "    \"type_filling\": mt.ORDER_FILLING_IOC,\n",
    "}\n",
    "\n",
    "# execute order\n",
    "result = mt.order_send(request)\n",
    "result"
   ]
  },
  {
   "cell_type": "code",
   "execution_count": 46,
   "metadata": {},
   "outputs": [
    {
     "data": {
      "text/plain": [
       "575977263"
      ]
     },
     "execution_count": 46,
     "metadata": {},
     "output_type": "execute_result"
    }
   ],
   "source": [
    "result.order"
   ]
  },
  {
   "cell_type": "code",
   "execution_count": 47,
   "metadata": {},
   "outputs": [
    {
     "data": {
      "text/plain": [
       "OrderSendResult(retcode=10009, deal=363851543, order=575977435, volume=0.01, price=51746.37, bid=51746.37, ask=51775.23, comment='python script cl', request_id=2878956849, retcode_external=0, request=TradeRequest(action=1, magic=0, order=0, symbol='BTCUSD', volume=0.01, price=51746.37, stoplimit=0.0, sl=0.0, tp=0.0, deviation=0, type=1, type_filling=1, type_time=0, expiration=0, comment='python script close', position=575977263, position_by=0))"
      ]
     },
     "execution_count": 47,
     "metadata": {},
     "output_type": "execute_result"
    }
   ],
   "source": [
    "# prepare the buy request structure\n",
    "request = {\n",
    "    \"action\": mt.TRADE_ACTION_DEAL,\n",
    "    \"symbol\": symbol,\n",
    "    \"volume\": lot,\n",
    "    \"type\": mt.ORDER_TYPE_SELL,\n",
    "    \"position\": result.order,\n",
    "    \"price\": mt.symbol_info_tick(symbol).bid,\n",
    "    \"comment\": \"python script close\",\n",
    "    \"type_time\": mt.ORDER_TIME_GTC,\n",
    "    \"type_filling\": mt.ORDER_FILLING_IOC,\n",
    "}\n",
    "\n",
    "# execute order\n",
    "result = mt.order_send(request)\n",
    "result"
   ]
  },
  {
   "cell_type": "code",
   "execution_count": 48,
   "metadata": {},
   "outputs": [
    {
     "data": {
      "text/plain": [
       "OrderCheckResult(retcode=10013, balance=0.0, equity=0.0, profit=0.0, margin=0.0, margin_free=0.0, margin_level=0.0, comment='Invalid request', request=TradeRequest(action=1, magic=0, order=0, symbol='BTCUSD', volume=0.01, price=51746.37, stoplimit=0.0, sl=0.0, tp=0.0, deviation=0, type=1, type_filling=1, type_time=0, expiration=0, comment='python script close', position=575977263, position_by=0))"
      ]
     },
     "execution_count": 48,
     "metadata": {},
     "output_type": "execute_result"
    }
   ],
   "source": [
    "mt.order_check(request)"
   ]
  },
  {
   "cell_type": "code",
   "execution_count": 49,
   "metadata": {},
   "outputs": [
    {
     "data": {
      "text/plain": [
       "True"
      ]
     },
     "execution_count": 49,
     "metadata": {},
     "output_type": "execute_result"
    }
   ],
   "source": [
    "mt.shutdown()"
   ]
  },
  {
   "cell_type": "code",
   "execution_count": null,
   "metadata": {},
   "outputs": [],
   "source": []
  }
 ],
 "metadata": {
  "kernelspec": {
   "display_name": "Python 3",
   "language": "python",
   "name": "python3"
  },
  "language_info": {
   "codemirror_mode": {
    "name": "ipython",
    "version": 3
   },
   "file_extension": ".py",
   "mimetype": "text/x-python",
   "name": "python",
   "nbconvert_exporter": "python",
   "pygments_lexer": "ipython3",
   "version": "3.9.8"
  }
 },
 "nbformat": 4,
 "nbformat_minor": 2
}
