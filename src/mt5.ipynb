{
 "cells": [
  {
   "cell_type": "code",
   "execution_count": 23,
   "metadata": {},
   "outputs": [],
   "source": [
    "# trd\n",
    "import MetaTrader5 as mt\n",
    "\n",
    "# processing\n",
    "import pandas as pd\n",
    "from datetime import datetime"
   ]
  },
  {
   "cell_type": "markdown",
   "metadata": {},
   "source": [
    "---"
   ]
  },
  {
   "cell_type": "code",
   "execution_count": 24,
   "metadata": {},
   "outputs": [
    {
     "data": {
      "text/plain": [
       "True"
      ]
     },
     "execution_count": 24,
     "metadata": {},
     "output_type": "execute_result"
    }
   ],
   "source": [
    "mt.initialize()"
   ]
  },
  {
   "cell_type": "code",
   "execution_count": 25,
   "metadata": {},
   "outputs": [
    {
     "data": {
      "text/plain": [
       "True"
      ]
     },
     "execution_count": 25,
     "metadata": {},
     "output_type": "execute_result"
    }
   ],
   "source": [
    "credentials = open('../.pass', 'r').read().split('\\n')\n",
    "login = int(credentials[0])\n",
    "password = credentials[1]\n",
    "server = credentials[2]\n",
    "\n",
    "mt.login(login, password, server)"
   ]
  },
  {
   "cell_type": "code",
   "execution_count": 26,
   "metadata": {},
   "outputs": [
    {
     "data": {
      "text/plain": [
       "AccountInfo(login=152702909, trade_mode=0, leverage=2, limit_orders=1024, margin_so_mode=0, trade_allowed=True, trade_expert=True, margin_mode=2, currency_digits=2, fifo_close=False, balance=584.23, credit=0.0, profit=0.0, equity=584.23, margin=0.0, margin_free=584.23, margin_level=0.0, margin_so_call=30.0, margin_so_so=0.0, margin_initial=0.0, margin_maintenance=0.0, assets=0.0, liabilities=0.0, commission_blocked=0.0, name='DEMO', server='Exness-MT5Trial', currency='USD', company='Exness Technologies Ltd')"
      ]
     },
     "execution_count": 26,
     "metadata": {},
     "output_type": "execute_result"
    }
   ],
   "source": [
    "mt.account_info()"
   ]
  },
  {
   "cell_type": "code",
   "execution_count": 33,
   "metadata": {},
   "outputs": [
    {
     "data": {
      "text/html": [
       "<div>\n",
       "<style scoped>\n",
       "    .dataframe tbody tr th:only-of-type {\n",
       "        vertical-align: middle;\n",
       "    }\n",
       "\n",
       "    .dataframe tbody tr th {\n",
       "        vertical-align: top;\n",
       "    }\n",
       "\n",
       "    .dataframe thead th {\n",
       "        text-align: right;\n",
       "    }\n",
       "</style>\n",
       "<table border=\"1\" class=\"dataframe\">\n",
       "  <thead>\n",
       "    <tr style=\"text-align: right;\">\n",
       "      <th></th>\n",
       "      <th>time</th>\n",
       "      <th>open</th>\n",
       "      <th>high</th>\n",
       "      <th>low</th>\n",
       "      <th>close</th>\n",
       "      <th>tick_volume</th>\n",
       "      <th>spread</th>\n",
       "      <th>real_volume</th>\n",
       "    </tr>\n",
       "  </thead>\n",
       "  <tbody>\n",
       "    <tr>\n",
       "      <th>0</th>\n",
       "      <td>1672531200</td>\n",
       "      <td>16532.88</td>\n",
       "      <td>16619.48</td>\n",
       "      <td>16492.71</td>\n",
       "      <td>16603.49</td>\n",
       "      <td>79688</td>\n",
       "      <td>427</td>\n",
       "      <td>0</td>\n",
       "    </tr>\n",
       "    <tr>\n",
       "      <th>1</th>\n",
       "      <td>1672617600</td>\n",
       "      <td>16602.97</td>\n",
       "      <td>16773.48</td>\n",
       "      <td>16535.88</td>\n",
       "      <td>16665.66</td>\n",
       "      <td>82223</td>\n",
       "      <td>747</td>\n",
       "      <td>0</td>\n",
       "    </tr>\n",
       "    <tr>\n",
       "      <th>2</th>\n",
       "      <td>1672704000</td>\n",
       "      <td>16665.36</td>\n",
       "      <td>16773.61</td>\n",
       "      <td>16593.15</td>\n",
       "      <td>16662.49</td>\n",
       "      <td>82161</td>\n",
       "      <td>575</td>\n",
       "      <td>0</td>\n",
       "    </tr>\n",
       "    <tr>\n",
       "      <th>3</th>\n",
       "      <td>1672790400</td>\n",
       "      <td>16661.05</td>\n",
       "      <td>16988.17</td>\n",
       "      <td>16639.02</td>\n",
       "      <td>16837.79</td>\n",
       "      <td>83272</td>\n",
       "      <td>371</td>\n",
       "      <td>0</td>\n",
       "    </tr>\n",
       "    <tr>\n",
       "      <th>4</th>\n",
       "      <td>1672876800</td>\n",
       "      <td>16839.31</td>\n",
       "      <td>16868.59</td>\n",
       "      <td>16750.72</td>\n",
       "      <td>16814.80</td>\n",
       "      <td>82185</td>\n",
       "      <td>517</td>\n",
       "      <td>0</td>\n",
       "    </tr>\n",
       "  </tbody>\n",
       "</table>\n",
       "</div>"
      ],
      "text/plain": [
       "         time      open      high       low     close  tick_volume  spread  \\\n",
       "0  1672531200  16532.88  16619.48  16492.71  16603.49        79688     427   \n",
       "1  1672617600  16602.97  16773.48  16535.88  16665.66        82223     747   \n",
       "2  1672704000  16665.36  16773.61  16593.15  16662.49        82161     575   \n",
       "3  1672790400  16661.05  16988.17  16639.02  16837.79        83272     371   \n",
       "4  1672876800  16839.31  16868.59  16750.72  16814.80        82185     517   \n",
       "\n",
       "   real_volume  \n",
       "0            0  \n",
       "1            0  \n",
       "2            0  \n",
       "3            0  \n",
       "4            0  "
      ]
     },
     "execution_count": 33,
     "metadata": {},
     "output_type": "execute_result"
    }
   ],
   "source": [
    "df = pd.DataFrame(mt.copy_rates_range('BTCUSD', mt.TIMEFRAME_D1, datetime(2023, 1, 1), datetime.now()))\n",
    "df.head()"
   ]
  },
  {
   "cell_type": "code",
   "execution_count": 34,
   "metadata": {},
   "outputs": [
    {
     "data": {
      "text/html": [
       "<div>\n",
       "<style scoped>\n",
       "    .dataframe tbody tr th:only-of-type {\n",
       "        vertical-align: middle;\n",
       "    }\n",
       "\n",
       "    .dataframe tbody tr th {\n",
       "        vertical-align: top;\n",
       "    }\n",
       "\n",
       "    .dataframe thead th {\n",
       "        text-align: right;\n",
       "    }\n",
       "</style>\n",
       "<table border=\"1\" class=\"dataframe\">\n",
       "  <thead>\n",
       "    <tr style=\"text-align: right;\">\n",
       "      <th></th>\n",
       "      <th>time</th>\n",
       "      <th>open</th>\n",
       "      <th>high</th>\n",
       "      <th>low</th>\n",
       "      <th>close</th>\n",
       "      <th>tick_volume</th>\n",
       "      <th>spread</th>\n",
       "      <th>real_volume</th>\n",
       "    </tr>\n",
       "  </thead>\n",
       "  <tbody>\n",
       "    <tr>\n",
       "      <th>0</th>\n",
       "      <td>2023-01-01 00:00:00+00:00</td>\n",
       "      <td>16532.88</td>\n",
       "      <td>16619.48</td>\n",
       "      <td>16492.71</td>\n",
       "      <td>16603.49</td>\n",
       "      <td>79688</td>\n",
       "      <td>427</td>\n",
       "      <td>0</td>\n",
       "    </tr>\n",
       "    <tr>\n",
       "      <th>1</th>\n",
       "      <td>2023-01-02 00:00:00+00:00</td>\n",
       "      <td>16602.97</td>\n",
       "      <td>16773.48</td>\n",
       "      <td>16535.88</td>\n",
       "      <td>16665.66</td>\n",
       "      <td>82223</td>\n",
       "      <td>747</td>\n",
       "      <td>0</td>\n",
       "    </tr>\n",
       "    <tr>\n",
       "      <th>2</th>\n",
       "      <td>2023-01-03 00:00:00+00:00</td>\n",
       "      <td>16665.36</td>\n",
       "      <td>16773.61</td>\n",
       "      <td>16593.15</td>\n",
       "      <td>16662.49</td>\n",
       "      <td>82161</td>\n",
       "      <td>575</td>\n",
       "      <td>0</td>\n",
       "    </tr>\n",
       "    <tr>\n",
       "      <th>3</th>\n",
       "      <td>2023-01-04 00:00:00+00:00</td>\n",
       "      <td>16661.05</td>\n",
       "      <td>16988.17</td>\n",
       "      <td>16639.02</td>\n",
       "      <td>16837.79</td>\n",
       "      <td>83272</td>\n",
       "      <td>371</td>\n",
       "      <td>0</td>\n",
       "    </tr>\n",
       "    <tr>\n",
       "      <th>4</th>\n",
       "      <td>2023-01-05 00:00:00+00:00</td>\n",
       "      <td>16839.31</td>\n",
       "      <td>16868.59</td>\n",
       "      <td>16750.72</td>\n",
       "      <td>16814.80</td>\n",
       "      <td>82185</td>\n",
       "      <td>517</td>\n",
       "      <td>0</td>\n",
       "    </tr>\n",
       "  </tbody>\n",
       "</table>\n",
       "</div>"
      ],
      "text/plain": [
       "                       time      open      high       low     close  \\\n",
       "0 2023-01-01 00:00:00+00:00  16532.88  16619.48  16492.71  16603.49   \n",
       "1 2023-01-02 00:00:00+00:00  16602.97  16773.48  16535.88  16665.66   \n",
       "2 2023-01-03 00:00:00+00:00  16665.36  16773.61  16593.15  16662.49   \n",
       "3 2023-01-04 00:00:00+00:00  16661.05  16988.17  16639.02  16837.79   \n",
       "4 2023-01-05 00:00:00+00:00  16839.31  16868.59  16750.72  16814.80   \n",
       "\n",
       "   tick_volume  spread  real_volume  \n",
       "0        79688     427            0  \n",
       "1        82223     747            0  \n",
       "2        82161     575            0  \n",
       "3        83272     371            0  \n",
       "4        82185     517            0  "
      ]
     },
     "execution_count": 34,
     "metadata": {},
     "output_type": "execute_result"
    }
   ],
   "source": [
    "df.time = pd.to_datetime(df.time, unit='s', utc=True)\n",
    "df.head()"
   ]
  },
  {
   "cell_type": "code",
   "execution_count": 35,
   "metadata": {},
   "outputs": [
    {
     "data": {
      "text/html": [
       "<div>\n",
       "<style scoped>\n",
       "    .dataframe tbody tr th:only-of-type {\n",
       "        vertical-align: middle;\n",
       "    }\n",
       "\n",
       "    .dataframe tbody tr th {\n",
       "        vertical-align: top;\n",
       "    }\n",
       "\n",
       "    .dataframe thead th {\n",
       "        text-align: right;\n",
       "    }\n",
       "</style>\n",
       "<table border=\"1\" class=\"dataframe\">\n",
       "  <thead>\n",
       "    <tr style=\"text-align: right;\">\n",
       "      <th></th>\n",
       "      <th>time</th>\n",
       "      <th>open</th>\n",
       "      <th>high</th>\n",
       "      <th>low</th>\n",
       "      <th>close</th>\n",
       "      <th>tick_volume</th>\n",
       "      <th>spread</th>\n",
       "      <th>real_volume</th>\n",
       "    </tr>\n",
       "  </thead>\n",
       "  <tbody>\n",
       "    <tr>\n",
       "      <th>424</th>\n",
       "      <td>2024-02-29 00:00:00+00:00</td>\n",
       "      <td>62457.02</td>\n",
       "      <td>63659.37</td>\n",
       "      <td>60308.47</td>\n",
       "      <td>61164.14</td>\n",
       "      <td>256881</td>\n",
       "      <td>1970</td>\n",
       "      <td>0</td>\n",
       "    </tr>\n",
       "    <tr>\n",
       "      <th>425</th>\n",
       "      <td>2024-03-01 00:00:00+00:00</td>\n",
       "      <td>61156.81</td>\n",
       "      <td>63185.63</td>\n",
       "      <td>60704.05</td>\n",
       "      <td>62363.47</td>\n",
       "      <td>194417</td>\n",
       "      <td>2047</td>\n",
       "      <td>0</td>\n",
       "    </tr>\n",
       "    <tr>\n",
       "      <th>426</th>\n",
       "      <td>2024-03-02 00:00:00+00:00</td>\n",
       "      <td>62379.96</td>\n",
       "      <td>62448.94</td>\n",
       "      <td>61562.16</td>\n",
       "      <td>61995.21</td>\n",
       "      <td>138529</td>\n",
       "      <td>2102</td>\n",
       "      <td>0</td>\n",
       "    </tr>\n",
       "    <tr>\n",
       "      <th>427</th>\n",
       "      <td>2024-03-03 00:00:00+00:00</td>\n",
       "      <td>61986.62</td>\n",
       "      <td>63266.51</td>\n",
       "      <td>61310.22</td>\n",
       "      <td>63165.73</td>\n",
       "      <td>144740</td>\n",
       "      <td>1829</td>\n",
       "      <td>0</td>\n",
       "    </tr>\n",
       "    <tr>\n",
       "      <th>428</th>\n",
       "      <td>2024-03-04 00:00:00+00:00</td>\n",
       "      <td>63145.13</td>\n",
       "      <td>64293.67</td>\n",
       "      <td>62354.76</td>\n",
       "      <td>63693.22</td>\n",
       "      <td>21919</td>\n",
       "      <td>1962</td>\n",
       "      <td>0</td>\n",
       "    </tr>\n",
       "  </tbody>\n",
       "</table>\n",
       "</div>"
      ],
      "text/plain": [
       "                         time      open      high       low     close  \\\n",
       "424 2024-02-29 00:00:00+00:00  62457.02  63659.37  60308.47  61164.14   \n",
       "425 2024-03-01 00:00:00+00:00  61156.81  63185.63  60704.05  62363.47   \n",
       "426 2024-03-02 00:00:00+00:00  62379.96  62448.94  61562.16  61995.21   \n",
       "427 2024-03-03 00:00:00+00:00  61986.62  63266.51  61310.22  63165.73   \n",
       "428 2024-03-04 00:00:00+00:00  63145.13  64293.67  62354.76  63693.22   \n",
       "\n",
       "     tick_volume  spread  real_volume  \n",
       "424       256881    1970            0  \n",
       "425       194417    2047            0  \n",
       "426       138529    2102            0  \n",
       "427       144740    1829            0  \n",
       "428        21919    1962            0  "
      ]
     },
     "execution_count": 35,
     "metadata": {},
     "output_type": "execute_result"
    }
   ],
   "source": [
    "df.tail()"
   ]
  },
  {
   "cell_type": "code",
   "execution_count": 33,
   "metadata": {},
   "outputs": [
    {
     "data": {
      "text/plain": [
       "()"
      ]
     },
     "execution_count": 33,
     "metadata": {},
     "output_type": "execute_result"
    }
   ],
   "source": [
    "mt.orders_get()"
   ]
  },
  {
   "cell_type": "code",
   "execution_count": 16,
   "metadata": {},
   "outputs": [
    {
     "data": {
      "text/plain": [
       "1"
      ]
     },
     "execution_count": 16,
     "metadata": {},
     "output_type": "execute_result"
    }
   ],
   "source": [
    "mt.positions_total()"
   ]
  },
  {
   "cell_type": "code",
   "execution_count": 35,
   "metadata": {},
   "outputs": [
    {
     "data": {
      "text/plain": [
       "(TradePosition(ticket=582939099, time=1708840045, time_msc=1708840045887, time_update=1708840045, time_update_msc=1708840045887, type=0, magic=0, identifier=582939099, reason=3, volume=0.01, price_open=51675.89, sl=0.0, tp=0.0, price_current=51638.53, swap=0.0, profit=-0.37, symbol='BTCUSD', comment='python script bu', external_id=''),)"
      ]
     },
     "execution_count": 35,
     "metadata": {},
     "output_type": "execute_result"
    }
   ],
   "source": [
    "mt.positions_get()"
   ]
  },
  {
   "cell_type": "code",
   "execution_count": 38,
   "metadata": {},
   "outputs": [],
   "source": [
    "def order_buy(symbol: str, volume: float, sl: float = None, tp: float = None):\n",
    "    price = mt.symbol_info_tick(symbol).ask\n",
    "    request = {\n",
    "        \"action\": mt.TRADE_ACTION_DEAL,\n",
    "        \"symbol\": symbol,\n",
    "        \"volume\": volume,\n",
    "        \"type\": mt.ORDER_TYPE_BUY,\n",
    "        \"price\": price,\n",
    "        \"comment\": \"PyScriptBuy\",\n",
    "        \"type_time\": mt.ORDER_TIME_GTC,\n",
    "        \"type_filling\": mt.ORDER_FILLING_IOC,\n",
    "    }\n",
    "    \n",
    "    # set stoploss\n",
    "    if sl: request.update({\"sl\": price * (1 - sl)})\n",
    "    \n",
    "    # set take-profit\n",
    "    if tp: request.update({\"tp\": price * (1 + tp)})\n",
    "    \n",
    "    # execute order\n",
    "    return mt.order_send(request)\n",
    "\n",
    "\n",
    "def order_buy_close(position: mt.TradePosition):\n",
    "    request = {\n",
    "        \"action\": mt.TRADE_ACTION_DEAL,\n",
    "        \"symbol\": position.symbol,\n",
    "        \"volume\": position.volume,\n",
    "        \"type\": mt.ORDER_TYPE_SELL,\n",
    "        \"position\": position.ticket,\n",
    "        \"price\": mt.symbol_info_tick(position.symbol).bid,\n",
    "        \"comment\": \"PyScriptBuyClose\",\n",
    "        \"type_time\": mt.ORDER_TIME_GTC,\n",
    "        \"type_filling\": mt.ORDER_FILLING_IOC,\n",
    "    }\n",
    "    \n",
    "    # execute order\n",
    "    return mt.order_send(request)\n"
   ]
  },
  {
   "cell_type": "code",
   "execution_count": 42,
   "metadata": {},
   "outputs": [],
   "source": [
    "def order_sell(symbol: str, volume: float, sl: float = None, tp: float = None):\n",
    "    price = mt.symbol_info_tick(symbol).bid\n",
    "    request = {\n",
    "        \"action\": mt.TRADE_ACTION_DEAL,\n",
    "        \"symbol\": symbol,\n",
    "        \"volume\": volume,\n",
    "        \"type\": mt.ORDER_TYPE_SELL,\n",
    "        \"price\": price,\n",
    "        \"comment\": \"PyScriptSell\",\n",
    "        \"type_time\": mt.ORDER_TIME_GTC,\n",
    "        \"type_filling\": mt.ORDER_FILLING_IOC,\n",
    "    }\n",
    "    \n",
    "    # set stoploss\n",
    "    if sl: request.update({\"sl\": price * (1 + sl)})\n",
    "    \n",
    "    # set take-profit\n",
    "    if tp: request.update({\"tp\": price * (1 - tp)})\n",
    "    \n",
    "    # execute order\n",
    "    return mt.order_send(request)\n",
    "\n",
    "\n",
    "def order_sell_close(position: mt.TradePosition):\n",
    "    request = {\n",
    "        \"action\": mt.TRADE_ACTION_DEAL,\n",
    "        \"symbol\": position.symbol,\n",
    "        \"volume\": position.volume,\n",
    "        \"type\": mt.ORDER_TYPE_BUY,\n",
    "        \"position\": position.ticket,\n",
    "        \"price\": mt.symbol_info_tick(position.symbol).ask,\n",
    "        \"comment\": \"PyScriptSellClose\",\n",
    "        \"type_time\": mt.ORDER_TIME_GTC,\n",
    "        \"type_filling\": mt.ORDER_FILLING_IOC,\n",
    "    }\n",
    "    \n",
    "    # execute order\n",
    "    return mt.order_send(request)"
   ]
  },
  {
   "cell_type": "code",
   "execution_count": 40,
   "metadata": {},
   "outputs": [],
   "source": [
    "symbol = 'BTCUSD'\n",
    "volume = 0.01"
   ]
  },
  {
   "cell_type": "code",
   "execution_count": 20,
   "metadata": {},
   "outputs": [
    {
     "data": {
      "text/plain": [
       "'PyScriptBuy'"
      ]
     },
     "execution_count": 20,
     "metadata": {},
     "output_type": "execute_result"
    }
   ],
   "source": [
    "result = order_buy('BTCUSD', 0.01)\n",
    "result.comment"
   ]
  },
  {
   "cell_type": "code",
   "execution_count": 43,
   "metadata": {},
   "outputs": [
    {
     "data": {
      "text/plain": [
       "'Market closed'"
      ]
     },
     "execution_count": 43,
     "metadata": {},
     "output_type": "execute_result"
    }
   ],
   "source": [
    "result_close = order_buy_close(mt.positions_get()[0])\n",
    "result_close.comment"
   ]
  },
  {
   "cell_type": "code",
   "execution_count": 41,
   "metadata": {},
   "outputs": [
    {
     "data": {
      "text/plain": [
       "'PyScriptSell'"
      ]
     },
     "execution_count": 41,
     "metadata": {},
     "output_type": "execute_result"
    }
   ],
   "source": [
    "result = order_sell('BTCUSD', 0.01)\n",
    "result.comment"
   ]
  },
  {
   "cell_type": "code",
   "execution_count": null,
   "metadata": {},
   "outputs": [],
   "source": []
  },
  {
   "cell_type": "code",
   "execution_count": 23,
   "metadata": {},
   "outputs": [],
   "source": [
    "# prepare the buy request structure\n",
    "lot = 0.001\n",
    "symbol = \"BTCUSD\"\n",
    "request = {\n",
    "    \"action\": mt.TRADE_ACTION_DEAL,\n",
    "    \"symbol\": symbol,\n",
    "    \"volume\": lot,\n",
    "    \"type\": mt.ORDER_TYPE_BUY,\n",
    "    \"price\": mt.symbol_info_tick(symbol).ask,\n",
    "    \"sl\": None,\n",
    "    \"tp\": None,\n",
    "    \"comment\": \"python script buy\",\n",
    "    \"type_time\": mt.ORDER_TIME_GTC,\n",
    "    \"type_filling\": mt.ORDER_FILLING_IOC,\n",
    "}\n",
    "\n",
    "# execute order\n",
    "result = mt.order_send(request)\n",
    "result"
   ]
  },
  {
   "cell_type": "code",
   "execution_count": 46,
   "metadata": {},
   "outputs": [
    {
     "data": {
      "text/plain": [
       "575977263"
      ]
     },
     "execution_count": 46,
     "metadata": {},
     "output_type": "execute_result"
    }
   ],
   "source": [
    "result.order"
   ]
  },
  {
   "cell_type": "code",
   "execution_count": null,
   "metadata": {},
   "outputs": [],
   "source": []
  },
  {
   "cell_type": "code",
   "execution_count": null,
   "metadata": {},
   "outputs": [],
   "source": []
  },
  {
   "cell_type": "code",
   "execution_count": null,
   "metadata": {},
   "outputs": [],
   "source": []
  },
  {
   "cell_type": "code",
   "execution_count": 47,
   "metadata": {},
   "outputs": [
    {
     "data": {
      "text/plain": [
       "OrderSendResult(retcode=10009, deal=363851543, order=575977435, volume=0.01, price=51746.37, bid=51746.37, ask=51775.23, comment='python script cl', request_id=2878956849, retcode_external=0, request=TradeRequest(action=1, magic=0, order=0, symbol='BTCUSD', volume=0.01, price=51746.37, stoplimit=0.0, sl=0.0, tp=0.0, deviation=0, type=1, type_filling=1, type_time=0, expiration=0, comment='python script close', position=575977263, position_by=0))"
      ]
     },
     "execution_count": 47,
     "metadata": {},
     "output_type": "execute_result"
    }
   ],
   "source": [
    "# prepare the buy request structure\n",
    "request = {\n",
    "    \"action\": mt.TRADE_ACTION_DEAL,\n",
    "    \"symbol\": symbol,\n",
    "    \"volume\": lot,\n",
    "    \"type\": mt.ORDER_TYPE_SELL,\n",
    "    \"position\": result.order,\n",
    "    \"price\": mt.symbol_info_tick(symbol).bid,\n",
    "    \"comment\": \"python script close\",\n",
    "    \"type_time\": mt.ORDER_TIME_GTC,\n",
    "    \"type_filling\": mt.ORDER_FILLING_IOC,\n",
    "}\n",
    "\n",
    "# execute order\n",
    "result = mt.order_send(request)\n",
    "result"
   ]
  },
  {
   "cell_type": "code",
   "execution_count": 48,
   "metadata": {},
   "outputs": [
    {
     "data": {
      "text/plain": [
       "OrderCheckResult(retcode=10013, balance=0.0, equity=0.0, profit=0.0, margin=0.0, margin_free=0.0, margin_level=0.0, comment='Invalid request', request=TradeRequest(action=1, magic=0, order=0, symbol='BTCUSD', volume=0.01, price=51746.37, stoplimit=0.0, sl=0.0, tp=0.0, deviation=0, type=1, type_filling=1, type_time=0, expiration=0, comment='python script close', position=575977263, position_by=0))"
      ]
     },
     "execution_count": 48,
     "metadata": {},
     "output_type": "execute_result"
    }
   ],
   "source": [
    "mt.order_check(request)"
   ]
  },
  {
   "cell_type": "code",
   "execution_count": 44,
   "metadata": {},
   "outputs": [
    {
     "data": {
      "text/plain": [
       "True"
      ]
     },
     "execution_count": 44,
     "metadata": {},
     "output_type": "execute_result"
    }
   ],
   "source": [
    "mt.shutdown()"
   ]
  },
  {
   "cell_type": "code",
   "execution_count": null,
   "metadata": {},
   "outputs": [],
   "source": []
  }
 ],
 "metadata": {
  "kernelspec": {
   "display_name": "Python 3",
   "language": "python",
   "name": "python3"
  },
  "language_info": {
   "codemirror_mode": {
    "name": "ipython",
    "version": 3
   },
   "file_extension": ".py",
   "mimetype": "text/x-python",
   "name": "python",
   "nbconvert_exporter": "python",
   "pygments_lexer": "ipython3",
   "version": "3.9.8"
  }
 },
 "nbformat": 4,
 "nbformat_minor": 2
}
